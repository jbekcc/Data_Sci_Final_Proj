{
 "cells": [
  {
   "cell_type": "code",
   "execution_count": 1,
   "metadata": {
    "collapsed": false
   },
   "outputs": [
    {
     "name": "stdout",
     "output_type": "stream",
     "text": [
      "Index(['tweet_id_str', 'job_id', 'created_at', 'text', 'from_user',\n",
      "       'from_user_id_str', 'from_user_name', 'from_user_fullname',\n",
      "       'from_user_followers', 'from_user_following', 'from_user_favorites',\n",
      "       'from_user_tweets', 'from_user_timezone', 'to_user', 'to_user_id_str',\n",
      "       'to_user_name', 'source', 'location_geo', 'location_geo_0',\n",
      "       'location_geo_1', 'iso_language', 'analysis_state', 'theDay',\n",
      "       'theMonth', 'theYear'],\n",
      "      dtype='object')\n"
     ]
    }
   ],
   "source": [
    "import csv\n",
    "import pandas as pd\n",
    "import MySQLdb as mdb\n",
    "import sys\n",
    "\n",
    "con = mdb.connect('128.206.116.195', 'tg4_ro', '?3stEt7!3hUbRa-R', 'tw4_db');\n",
    "\n",
    "#cur.execute(\"SELECT created_at, from_user, from_user_followers, text from tweet where job_id=1196\")\n",
    "data = pd.read_sql_query(\"select t.*, DAY(created_at) as theDay, MONTH(created_at) as theMonth, YEAR(created_at) as theYear from tweet t where job_id = 4258\", con)\n",
    "print (data.columns)"
   ]
  },
  {
   "cell_type": "code",
   "execution_count": 2,
   "metadata": {
    "collapsed": false
   },
   "outputs": [
    {
     "name": "stdout",
     "output_type": "stream",
     "text": [
      "Index(['tweet_id_str', 'job_id', 'created_at', 'text', 'from_user',\n",
      "       'from_user_id_str', 'from_user_name', 'from_user_fullname',\n",
      "       'from_user_followers', 'from_user_following', 'from_user_favorites',\n",
      "       'from_user_tweets', 'from_user_timezone', 'to_user', 'to_user_id_str',\n",
      "       'to_user_name', 'source', 'location_geo', 'location_geo_0',\n",
      "       'location_geo_1', 'iso_language', 'analysis_state', 'theDay',\n",
      "       'theMonth', 'theYear', 'Sentiment'],\n",
      "      dtype='object')\n"
     ]
    }
   ],
   "source": [
    "data['Sentiment'] = 0\n",
    "print(data.columns)"
   ]
  },
  {
   "cell_type": "code",
   "execution_count": null,
   "metadata": {
    "collapsed": false
   },
   "outputs": [],
   "source": [
    "from textblob import TextBlob\n",
    "import nltk \n",
    "\n",
    "import csv\n",
    "with open('Sentiment.csv', 'wb') as f:\n",
    "    writer = csv.writer(f)\n",
    "    \n",
    "df2 = pd.DataFrame()    \n",
    "\n",
    "for index, row in data.iterrows():\n",
    "#    print(row['text'])\n",
    "#    text = '\"'+str(row['text'])+'\"'\n",
    "    text = str(row['text'])\n",
    "    blob = TextBlob(text)\n",
    "#    print (blob.sentiment)\n",
    "    row['Sentiment'] = blob.sentiment.polarity\n",
    "    df2.append(row)\n",
    "    \n",
    "print(df2.columns)"
   ]
  },
  {
   "cell_type": "code",
   "execution_count": null,
   "metadata": {
    "collapsed": true
   },
   "outputs": [],
   "source": [
    "data.to_csv('Sentiment.csv')"
   ]
  }
 ],
 "metadata": {
  "kernelspec": {
   "display_name": "Python 3",
   "language": "python",
   "name": "python3"
  },
  "language_info": {
   "codemirror_mode": {
    "name": "ipython",
    "version": 3
   },
   "file_extension": ".py",
   "mimetype": "text/x-python",
   "name": "python",
   "nbconvert_exporter": "python",
   "pygments_lexer": "ipython3",
   "version": "3.4.3"
  }
 },
 "nbformat": 4,
 "nbformat_minor": 0
}
